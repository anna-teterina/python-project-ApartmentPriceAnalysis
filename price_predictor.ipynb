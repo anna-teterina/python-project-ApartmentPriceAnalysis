{
 "cells": [
  {
   "cell_type": "code",
   "execution_count": 1,
   "id": "f5abd744",
   "metadata": {},
   "outputs": [],
   "source": [
    "# for load the data pre-preparation function\n",
    "import importlib.util\n",
    "\n",
    "# loading functions from the file\n",
    "module_name = f\"pipeline_for_production\"\n",
    "module_path = f\"pipeline_for_production.py\"\n",
    "\n",
    "spec = importlib.util.spec_from_file_location(module_name, module_path)\n",
    "module = importlib.util.module_from_spec(spec)\n",
    "spec.loader.exec_module(module)"
   ]
  },
  {
   "cell_type": "markdown",
   "id": "dc48dd13",
   "metadata": {},
   "source": [
    "Ankieta do wypełnienia: https://forms.gle/Tixf4AexZiijdTAE6"
   ]
  },
  {
   "cell_type": "code",
   "execution_count": 2,
   "id": "38227e44",
   "metadata": {},
   "outputs": [
    {
     "data": {
      "application/vnd.jupyter.widget-view+json": {
       "model_id": "7c18e6a8eee84d7c8c50ee174d0302b7",
       "version_major": 2,
       "version_minor": 0
      },
      "text/plain": [
       "HBox(children=(VBox(children=(Image(value=b\"\\x89PNG\\r\\n\\x1a\\n\\x00\\x00\\x00\\rIHDR\\x00\\x00\\x04Q\\x00\\x00\\x00p\\x08\\…"
      ]
     },
     "metadata": {},
     "output_type": "display_data"
    },
    {
     "data": {
      "application/vnd.jupyter.widget-view+json": {
       "model_id": "4276f8c32fef4d2781a150fd3699a9a9",
       "version_major": 2,
       "version_minor": 0
      },
      "text/plain": [
       "HBox(children=(VBox(children=(Image(value=b'\\x89PNG\\r\\n\\x1a\\n\\x00\\x00\\x00\\rIHDR\\x00\\x00\\x04Q\\x00\\x00\\x00o\\x08\\…"
      ]
     },
     "metadata": {},
     "output_type": "display_data"
    }
   ],
   "source": [
    "module.production_function(number_of_filled_questionnaire = 2,\n",
    "                           to_delete_outliers = True)"
   ]
  }
 ],
 "metadata": {
  "kernelspec": {
   "display_name": "Python 3",
   "language": "python",
   "name": "python3"
  },
  "language_info": {
   "codemirror_mode": {
    "name": "ipython",
    "version": 3
   },
   "file_extension": ".py",
   "mimetype": "text/x-python",
   "name": "python",
   "nbconvert_exporter": "python",
   "pygments_lexer": "ipython3",
   "version": "3.13.5"
  }
 },
 "nbformat": 4,
 "nbformat_minor": 5
}
